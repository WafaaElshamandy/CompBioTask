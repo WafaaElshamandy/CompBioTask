{
 "cells": [
  {
   "cell_type": "code",
   "execution_count": 1,
   "id": "b556f37c",
   "metadata": {},
   "outputs": [],
   "source": [
    "import cobra\n",
    "from cobra import Model,Reaction,Metabolite"
   ]
  },
  {
   "cell_type": "code",
   "execution_count": 2,
   "id": "7e432d0e",
   "metadata": {},
   "outputs": [],
   "source": [
    "M=Model('Dr_Task')\n",
    "\n",
    "glc=Reaction('glc')\n",
    "glc.name='glc'\n",
    "glc.lower_bound=1\n",
    "glc.upper_bound=1"
   ]
  },
  {
   "cell_type": "code",
   "execution_count": 3,
   "id": "7d05ac89",
   "metadata": {},
   "outputs": [],
   "source": [
    "AA=Reaction('AA')\n",
    "AA.name='AA'\n",
    "AA.lower_bound=0\n",
    "AA.upper_bound=1000\n"
   ]
  },
  {
   "cell_type": "code",
   "execution_count": 4,
   "id": "938220c6",
   "metadata": {},
   "outputs": [],
   "source": [
    "Biomass=Reaction('Biomass')\n",
    "Biomass.name='Biomass'\n",
    "Biomass.lower_bound=0\n",
    "Biomass.upper_bound=1000\n",
    "\n",
    "Mu=Reaction('Mu')\n",
    "Mu.name='Mu'\n",
    "Mu.lower_bound=0\n",
    "Mu.upper_bound=1000\n",
    "\n",
    "glyc=Metabolite('glyc',compartment='c')\n",
    "AmAc=Metabolite('AmAc',compartment='c')"
   ]
  },
  {
   "cell_type": "code",
   "execution_count": 5,
   "id": "d36c1016",
   "metadata": {},
   "outputs": [],
   "source": [
    "BioMass=Metabolite('BioMass',compartment='c')\n",
    "\n",
    "glc.add_metabolites({glyc:1})\n",
    "\n",
    "AA.add_metabolites({glyc:-1,AmAc:1})\n",
    "\n",
    "Biomass.add_metabolites({AmAc:-9.09,BioMass:1})\n",
    "\n",
    "Mu.add_metabolites({BioMass:-1})\n",
    "\n",
    "M.add_reactions([glc,AA,Biomass,Mu])"
   ]
  },
  {
   "cell_type": "code",
   "execution_count": 6,
   "id": "c6c7105a",
   "metadata": {},
   "outputs": [
    {
     "data": {
      "text/html": [
       "<strong><em>Optimal</em> solution with objective value 0.110</strong><br><div>\n",
       "<style scoped>\n",
       "    .dataframe tbody tr th:only-of-type {\n",
       "        vertical-align: middle;\n",
       "    }\n",
       "\n",
       "    .dataframe tbody tr th {\n",
       "        vertical-align: top;\n",
       "    }\n",
       "\n",
       "    .dataframe thead th {\n",
       "        text-align: right;\n",
       "    }\n",
       "</style>\n",
       "<table border=\"1\" class=\"dataframe\">\n",
       "  <thead>\n",
       "    <tr style=\"text-align: right;\">\n",
       "      <th></th>\n",
       "      <th>fluxes</th>\n",
       "      <th>reduced_costs</th>\n",
       "    </tr>\n",
       "  </thead>\n",
       "  <tbody>\n",
       "    <tr>\n",
       "      <th>glc</th>\n",
       "      <td>1.000000</td>\n",
       "      <td>0.220022</td>\n",
       "    </tr>\n",
       "    <tr>\n",
       "      <th>AA</th>\n",
       "      <td>1.000000</td>\n",
       "      <td>0.000000</td>\n",
       "    </tr>\n",
       "    <tr>\n",
       "      <th>Biomass</th>\n",
       "      <td>0.110011</td>\n",
       "      <td>0.000000</td>\n",
       "    </tr>\n",
       "    <tr>\n",
       "      <th>Mu</th>\n",
       "      <td>0.110011</td>\n",
       "      <td>0.000000</td>\n",
       "    </tr>\n",
       "  </tbody>\n",
       "</table>\n",
       "</div>"
      ],
      "text/plain": [
       "<Solution 0.110 at 0x1e544fca4f0>"
      ]
     },
     "execution_count": 6,
     "metadata": {},
     "output_type": "execute_result"
    }
   ],
   "source": [
    "M.objective='Mu'\n",
    "\n",
    "M.optimize()"
   ]
  },
  {
   "cell_type": "code",
   "execution_count": 9,
   "id": "ed3850c5",
   "metadata": {},
   "outputs": [],
   "source": [
    "cobra.io.save_json_model(M,\"test.json\")"
   ]
  },
  {
   "cell_type": "code",
   "execution_count": 10,
   "id": "e5cec1d4",
   "metadata": {},
   "outputs": [
    {
     "data": {
      "text/html": [
       "\n",
       "        <table>\n",
       "            <tr>\n",
       "                <td><strong>Name</strong></td>\n",
       "                <td>Dr_Task</td>\n",
       "            </tr><tr>\n",
       "                <td><strong>Memory address</strong></td>\n",
       "                <td>0x01e544fe3d00</td>\n",
       "            </tr><tr>\n",
       "                <td><strong>Number of metabolites</strong></td>\n",
       "                <td>3</td>\n",
       "            </tr><tr>\n",
       "                <td><strong>Number of reactions</strong></td>\n",
       "                <td>4</td>\n",
       "            </tr><tr>\n",
       "                <td><strong>Number of groups</strong></td>\n",
       "                <td>0</td>\n",
       "            </tr><tr>\n",
       "                <td><strong>Objective expression</strong></td>\n",
       "                <td>1.0*Mu - 1.0*Mu_reverse_893b7</td>\n",
       "            </tr><tr>\n",
       "                <td><strong>Compartments</strong></td>\n",
       "                <td>c</td>\n",
       "            </tr>\n",
       "          </table>"
      ],
      "text/plain": [
       "<Model Dr_Task at 0x1e544fe3d00>"
      ]
     },
     "execution_count": 10,
     "metadata": {},
     "output_type": "execute_result"
    }
   ],
   "source": [
    "cobra.io.load_json_model(\"test.json\")"
   ]
  },
  {
   "cell_type": "code",
   "execution_count": 11,
   "id": "40cee93b",
   "metadata": {},
   "outputs": [],
   "source": [
    "from escher import Builder"
   ]
  },
  {
   "cell_type": "code",
   "execution_count": 12,
   "id": "aaf79904",
   "metadata": {},
   "outputs": [],
   "source": [
    "builder1=Builder(model_json=\"test.json\")\n"
   ]
  },
  {
   "cell_type": "code",
   "execution_count": 13,
   "id": "ddcf0de2",
   "metadata": {},
   "outputs": [
    {
     "data": {
      "application/vnd.jupyter.widget-view+json": {
       "model_id": "0c80e123187241c3ac950dc15c2ee451",
       "version_major": 2,
       "version_minor": 0
      },
      "text/plain": [
       "Builder()"
      ]
     },
     "metadata": {},
     "output_type": "display_data"
    }
   ],
   "source": [
    "builder1"
   ]
  },
  {
   "cell_type": "code",
   "execution_count": null,
   "id": "2f7383eb",
   "metadata": {},
   "outputs": [],
   "source": []
  }
 ],
 "metadata": {
  "kernelspec": {
   "display_name": "Python 3",
   "language": "python",
   "name": "python3"
  },
  "language_info": {
   "codemirror_mode": {
    "name": "ipython",
    "version": 3
   },
   "file_extension": ".py",
   "mimetype": "text/x-python",
   "name": "python",
   "nbconvert_exporter": "python",
   "pygments_lexer": "ipython3",
   "version": "3.8.8"
  }
 },
 "nbformat": 4,
 "nbformat_minor": 5
}
