{
 "cells": [
  {
   "cell_type": "code",
   "execution_count": 1,
   "id": "11ac8460",
   "metadata": {},
   "outputs": [],
   "source": [
    "from cobra import Model,Reaction,Metabolite"
   ]
  },
  {
   "cell_type": "code",
   "execution_count": 2,
   "id": "0a51fdfb",
   "metadata": {},
   "outputs": [],
   "source": [
    "M=Model('Dr_Task')"
   ]
  },
  {
   "cell_type": "code",
   "execution_count": 3,
   "id": "56794841",
   "metadata": {},
   "outputs": [],
   "source": [
    "glc=Reaction('glc')\n",
    "glc.name='glc'\n",
    "glc.lower_bound=1\n",
    "glc.upper_bound=1"
   ]
  },
  {
   "cell_type": "code",
   "execution_count": 4,
   "id": "7d0f0f2a",
   "metadata": {},
   "outputs": [],
   "source": [
    "AA=Reaction('AA')\n",
    "AA.name='AA'\n",
    "AA.lower_bound=0\n",
    "AA.upper_bound=1000"
   ]
  },
  {
   "cell_type": "code",
   "execution_count": 5,
   "id": "9bbaf2ba",
   "metadata": {},
   "outputs": [],
   "source": [
    "Biomass=Reaction('Biomass')\n",
    "Biomass.name='Biomass'\n",
    "Biomass.lower_bound=0\n",
    "Biomass.upper_bound=1000"
   ]
  },
  {
   "cell_type": "code",
   "execution_count": 6,
   "id": "0ade99f7",
   "metadata": {},
   "outputs": [],
   "source": [
    "Mu=Reaction('Mu')\n",
    "Mu.name='Mu'\n",
    "Mu.lower_bound=0\n",
    "Mu.upper_bound=1000"
   ]
  },
  {
   "cell_type": "code",
   "execution_count": 7,
   "id": "ddb4cbfd",
   "metadata": {},
   "outputs": [],
   "source": [
    "glyc=Metabolite('glyc',compartment='c')\n",
    "AmAc=Metabolite('AmAc',compartment='c')\n",
    "BioMass=Metabolite('BioMass',compartment='c')"
   ]
  },
  {
   "cell_type": "code",
   "execution_count": 8,
   "id": "b641aadd",
   "metadata": {},
   "outputs": [],
   "source": [
    "glc.add_metabolites({glyc:1})"
   ]
  },
  {
   "cell_type": "code",
   "execution_count": 9,
   "id": "4412b82c",
   "metadata": {},
   "outputs": [],
   "source": [
    "AA.add_metabolites({glyc:-1,AmAc:1})"
   ]
  },
  {
   "cell_type": "code",
   "execution_count": 10,
   "id": "4491c6b2",
   "metadata": {},
   "outputs": [],
   "source": [
    "Biomass.add_metabolites({AmAc:-9.09,BioMass:1})"
   ]
  },
  {
   "cell_type": "code",
   "execution_count": 11,
   "id": "a20601b1",
   "metadata": {},
   "outputs": [],
   "source": [
    "Mu.add_metabolites({BioMass:-1})"
   ]
  },
  {
   "cell_type": "code",
   "execution_count": 12,
   "id": "879f878b",
   "metadata": {},
   "outputs": [],
   "source": [
    "M.add_reactions([glc,AA,Biomass,Mu])"
   ]
  },
  {
   "cell_type": "code",
   "execution_count": 13,
   "id": "28b137c7",
   "metadata": {},
   "outputs": [],
   "source": [
    "M.objective='Mu'"
   ]
  },
  {
   "cell_type": "code",
   "execution_count": 14,
   "id": "d2741d75",
   "metadata": {},
   "outputs": [
    {
     "data": {
      "text/html": [
       "<strong><em>Optimal</em> solution with objective value 0.110</strong><br><div>\n",
       "<style scoped>\n",
       "    .dataframe tbody tr th:only-of-type {\n",
       "        vertical-align: middle;\n",
       "    }\n",
       "\n",
       "    .dataframe tbody tr th {\n",
       "        vertical-align: top;\n",
       "    }\n",
       "\n",
       "    .dataframe thead th {\n",
       "        text-align: right;\n",
       "    }\n",
       "</style>\n",
       "<table border=\"1\" class=\"dataframe\">\n",
       "  <thead>\n",
       "    <tr style=\"text-align: right;\">\n",
       "      <th></th>\n",
       "      <th>fluxes</th>\n",
       "      <th>reduced_costs</th>\n",
       "    </tr>\n",
       "  </thead>\n",
       "  <tbody>\n",
       "    <tr>\n",
       "      <th>glc</th>\n",
       "      <td>1.000000</td>\n",
       "      <td>0.220022</td>\n",
       "    </tr>\n",
       "    <tr>\n",
       "      <th>AA</th>\n",
       "      <td>1.000000</td>\n",
       "      <td>0.000000</td>\n",
       "    </tr>\n",
       "    <tr>\n",
       "      <th>Biomass</th>\n",
       "      <td>0.110011</td>\n",
       "      <td>0.000000</td>\n",
       "    </tr>\n",
       "    <tr>\n",
       "      <th>Mu</th>\n",
       "      <td>0.110011</td>\n",
       "      <td>0.000000</td>\n",
       "    </tr>\n",
       "  </tbody>\n",
       "</table>\n",
       "</div>"
      ],
      "text/plain": [
       "<Solution 0.110 at 0x20f45356bb0>"
      ]
     },
     "execution_count": 14,
     "metadata": {},
     "output_type": "execute_result"
    }
   ],
   "source": [
    "M.optimize()"
   ]
  },
  {
   "cell_type": "code",
   "execution_count": null,
   "id": "8ecc30fb",
   "metadata": {},
   "outputs": [],
   "source": []
  }
 ],
 "metadata": {
  "kernelspec": {
   "display_name": "Python 3",
   "language": "python",
   "name": "python3"
  },
  "language_info": {
   "codemirror_mode": {
    "name": "ipython",
    "version": 3
   },
   "file_extension": ".py",
   "mimetype": "text/x-python",
   "name": "python",
   "nbconvert_exporter": "python",
   "pygments_lexer": "ipython3",
   "version": "3.8.8"
  }
 },
 "nbformat": 4,
 "nbformat_minor": 5
}
