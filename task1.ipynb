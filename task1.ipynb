{
 "cells": [
  {
   "cell_type": "code",
   "execution_count": 1,
   "id": "5b68b51a",
   "metadata": {},
   "outputs": [],
   "source": [
    "import cobra"
   ]
  },
  {
   "cell_type": "code",
   "execution_count": 2,
   "id": "78dcf237",
   "metadata": {},
   "outputs": [],
   "source": [
    "from cobra import Model,Reaction,Metabolite"
   ]
  },
  {
   "cell_type": "code",
   "execution_count": 3,
   "id": "6adc1c5e",
   "metadata": {},
   "outputs": [],
   "source": [
    "model=Model('first example')"
   ]
  },
  {
   "cell_type": "code",
   "execution_count": 5,
   "id": "42c95421",
   "metadata": {},
   "outputs": [],
   "source": [
    "R0=Reaction('R0')\n",
    "R0.name='R0'\n",
    "R0.lower_bound=1\n",
    "R0.upper_bound=1"
   ]
  },
  {
   "cell_type": "code",
   "execution_count": 6,
   "id": "b3afdff4",
   "metadata": {},
   "outputs": [],
   "source": [
    "R1=Reaction('R1')\n",
    "R1.name='R1'\n",
    "R1.lower_bound=0\n",
    "R1.upper_bound=1000\n",
    "\n",
    "R2=Reaction('R2')\n",
    "R2.name='R2'\n",
    "R2.lower_bound=0\n",
    "R2.upper_bound=1000\n",
    "\n",
    "Mu=Reaction('Mu')\n",
    "Mu.name='Mu'\n",
    "Mu.lower_bound=0\n",
    "Mu.upper_bound=1000\n",
    "\n"
   ]
  },
  {
   "cell_type": "code",
   "execution_count": 7,
   "id": "6065c9e5",
   "metadata": {},
   "outputs": [],
   "source": [
    "ATP=Reaction('ATP')\n",
    "ATP.name='ATP'\n",
    "ATP.lower_bound=0\n",
    "ATP.upper_bound=1000\n",
    "\n",
    "R3=Reaction('R3')\n",
    "ATP.name='R3'\n",
    "ATP.lower_bound=0.9\n",
    "ATP.upper_bound=0.9"
   ]
  },
  {
   "cell_type": "code",
   "execution_count": 10,
   "id": "5b331153",
   "metadata": {},
   "outputs": [],
   "source": [
    "A=Metabolite('A',compartment='c')\n",
    "B=Metabolite('B',compartment='c')\n",
    "C=Metabolite('C',compartment='c')\n",
    "ATP2=Metabolite('ATP2',compartment='c')"
   ]
  },
  {
   "cell_type": "code",
   "execution_count": 11,
   "id": "07add32e",
   "metadata": {},
   "outputs": [],
   "source": [
    "R1.add_metabolites({A:-1,B:1})\n",
    "R2.add_metabolites({B:-1,C:1})"
   ]
  },
  {
   "cell_type": "code",
   "execution_count": 12,
   "id": "a6822e21",
   "metadata": {},
   "outputs": [],
   "source": [
    "R0.add_metabolites({A:1})"
   ]
  },
  {
   "cell_type": "code",
   "execution_count": 13,
   "id": "8a55c0ff",
   "metadata": {},
   "outputs": [],
   "source": [
    "Mu.add_metabolites({C:-1})"
   ]
  },
  {
   "cell_type": "code",
   "execution_count": 14,
   "id": "eca1a6ff",
   "metadata": {},
   "outputs": [],
   "source": [
    "ATP.add_metabolites({A:-1,ATP2:1})\n",
    "R3.add_metabolites({ATP2:-1})"
   ]
  },
  {
   "cell_type": "code",
   "execution_count": 15,
   "id": "a496dc7b",
   "metadata": {},
   "outputs": [],
   "source": [
    "model.add_reactions([R0,R1,ATP,R2,R3,Mu])"
   ]
  },
  {
   "cell_type": "code",
   "execution_count": 16,
   "id": "68fb5993",
   "metadata": {},
   "outputs": [],
   "source": [
    "model.objective=\"Mu\""
   ]
  },
  {
   "cell_type": "code",
   "execution_count": 17,
   "id": "ef909696",
   "metadata": {},
   "outputs": [
    {
     "data": {
      "text/html": [
       "<strong><em>Optimal</em> solution with objective value 0.100</strong><br><div>\n",
       "<style scoped>\n",
       "    .dataframe tbody tr th:only-of-type {\n",
       "        vertical-align: middle;\n",
       "    }\n",
       "\n",
       "    .dataframe tbody tr th {\n",
       "        vertical-align: top;\n",
       "    }\n",
       "\n",
       "    .dataframe thead th {\n",
       "        text-align: right;\n",
       "    }\n",
       "</style>\n",
       "<table border=\"1\" class=\"dataframe\">\n",
       "  <thead>\n",
       "    <tr style=\"text-align: right;\">\n",
       "      <th></th>\n",
       "      <th>fluxes</th>\n",
       "      <th>reduced_costs</th>\n",
       "    </tr>\n",
       "  </thead>\n",
       "  <tbody>\n",
       "    <tr>\n",
       "      <th>R0</th>\n",
       "      <td>1.0</td>\n",
       "      <td>2.0</td>\n",
       "    </tr>\n",
       "    <tr>\n",
       "      <th>R1</th>\n",
       "      <td>0.1</td>\n",
       "      <td>0.0</td>\n",
       "    </tr>\n",
       "    <tr>\n",
       "      <th>ATP</th>\n",
       "      <td>0.9</td>\n",
       "      <td>-2.0</td>\n",
       "    </tr>\n",
       "    <tr>\n",
       "      <th>R2</th>\n",
       "      <td>0.1</td>\n",
       "      <td>0.0</td>\n",
       "    </tr>\n",
       "    <tr>\n",
       "      <th>R3</th>\n",
       "      <td>0.9</td>\n",
       "      <td>0.0</td>\n",
       "    </tr>\n",
       "    <tr>\n",
       "      <th>Mu</th>\n",
       "      <td>0.1</td>\n",
       "      <td>0.0</td>\n",
       "    </tr>\n",
       "  </tbody>\n",
       "</table>\n",
       "</div>"
      ],
      "text/plain": [
       "<Solution 0.100 at 0x1ecd38eb070>"
      ]
     },
     "execution_count": 17,
     "metadata": {},
     "output_type": "execute_result"
    }
   ],
   "source": [
    "model.optimize()"
   ]
  },
  {
   "cell_type": "code",
   "execution_count": 19,
   "id": "3e62a05a",
   "metadata": {},
   "outputs": [
    {
     "data": {
      "text/html": [
       "<h3>Objective</h3><p>1.0 Mu = 0.09999999999999998</p><h4>Uptake</h4><table border=\"1\" class=\"dataframe\">\n",
       "  <thead>\n",
       "    <tr style=\"text-align: right;\">\n",
       "      <th>Metabolite</th>\n",
       "      <th>Reaction</th>\n",
       "      <th>Flux</th>\n",
       "      <th>C-Number</th>\n",
       "      <th>C-Flux</th>\n",
       "    </tr>\n",
       "  </thead>\n",
       "  <tbody>\n",
       "    <tr>\n",
       "      <td>A</td>\n",
       "      <td>R0</td>\n",
       "      <td>1</td>\n",
       "      <td>0</td>\n",
       "      <td>0.00%</td>\n",
       "    </tr>\n",
       "  </tbody>\n",
       "</table><h4>Secretion</h4><table border=\"1\" class=\"dataframe\">\n",
       "  <thead>\n",
       "    <tr style=\"text-align: right;\">\n",
       "      <th>Metabolite</th>\n",
       "      <th>Reaction</th>\n",
       "      <th>Flux</th>\n",
       "      <th>C-Number</th>\n",
       "      <th>C-Flux</th>\n",
       "    </tr>\n",
       "  </thead>\n",
       "  <tbody>\n",
       "    <tr>\n",
       "      <td>C</td>\n",
       "      <td>Mu</td>\n",
       "      <td>-0.1</td>\n",
       "      <td>0</td>\n",
       "      <td>0.00%</td>\n",
       "    </tr>\n",
       "    <tr>\n",
       "      <td>ATP2</td>\n",
       "      <td>R3</td>\n",
       "      <td>-0.9</td>\n",
       "      <td>0</td>\n",
       "      <td>0.00%</td>\n",
       "    </tr>\n",
       "  </tbody>\n",
       "</table>"
      ],
      "text/plain": [
       "<cobra.summary.model_summary.ModelSummary at 0x1ecd38eb6a0>"
      ]
     },
     "execution_count": 19,
     "metadata": {},
     "output_type": "execute_result"
    }
   ],
   "source": [
    "model.summary()"
   ]
  },
  {
   "cell_type": "code",
   "execution_count": null,
   "id": "111b4469",
   "metadata": {},
   "outputs": [],
   "source": []
  }
 ],
 "metadata": {
  "kernelspec": {
   "display_name": "Python 3",
   "language": "python",
   "name": "python3"
  },
  "language_info": {
   "codemirror_mode": {
    "name": "ipython",
    "version": 3
   },
   "file_extension": ".py",
   "mimetype": "text/x-python",
   "name": "python",
   "nbconvert_exporter": "python",
   "pygments_lexer": "ipython3",
   "version": "3.8.8"
  }
 },
 "nbformat": 4,
 "nbformat_minor": 5
}
